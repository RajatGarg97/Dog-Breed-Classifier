{
  "nbformat": 4,
  "nbformat_minor": 0,
  "metadata": {
    "colab": {
      "name": "SourceCode.ipynb",
      "version": "0.3.2",
      "provenance": []
    },
    "kernelspec": {
      "display_name": "Python 3",
      "language": "python",
      "name": "python3"
    }
  },
  "cells": [
    {
      "metadata": {
        "id": "mkxXwLVQlZPR",
        "colab_type": "text"
      },
      "cell_type": "markdown",
      "source": [
        "# Dog Breed Classifier"
      ]
    },
    {
      "metadata": {
        "id": "_jkAQmmvlZPb",
        "colab_type": "code",
        "colab": {}
      },
      "cell_type": "code",
      "source": [
        "import cv2\n",
        "import matplotlib.pyplot as plt                        \n",
        "%matplotlib inline"
      ],
      "execution_count": 0,
      "outputs": []
    },
    {
      "metadata": {
        "id": "W0c_psdoldqs",
        "colab_type": "code",
        "colab": {}
      },
      "cell_type": "code",
      "source": [
        "# pre-trained face detector\n",
        "\n",
        "face_cascade = cv2.CascadeClassifier('file location')"
      ],
      "execution_count": 0,
      "outputs": []
    }
  ]
}