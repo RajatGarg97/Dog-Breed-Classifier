{
  "nbformat": 4,
  "nbformat_minor": 0,
  "metadata": {
    "colab": {
      "name": "SourceCode.ipynb",
      "version": "0.3.2",
      "provenance": []
    },
    "kernelspec": {
      "display_name": "Python 3",
      "language": "python",
      "name": "python3"
    }
  },
  "cells": [
    {
      "metadata": {
        "id": "mkxXwLVQlZPR",
        "colab_type": "text"
      },
      "cell_type": "markdown",
      "source": [
        "# Dog Breed Classifier"
      ]
    },
    {
      "metadata": {
        "id": "_jkAQmmvlZPb",
        "colab_type": "code",
        "colab": {}
      },
      "cell_type": "code",
      "source": [
        "import cv2\n",
        "import matplotlib.pyplot as plt                        \n",
        "%matplotlib inline"
      ],
      "execution_count": 0,
      "outputs": []
    },
    {
      "metadata": {
        "id": "W0c_psdoldqs",
        "colab_type": "code",
        "colab": {}
      },
      "cell_type": "code",
      "source": [
        "# Extracting pre-trained face detector\n",
        "\n",
        "face_cascade = cv2.CascadeClassifier('haarcascades/haarcascade_frontalface_alt.xml')"
      ],
      "execution_count": 0,
      "outputs": []
    },
    {
      "metadata": {
        "id": "02WVce7ID0L9",
        "colab_type": "code",
        "colab": {}
      },
      "cell_type": "code",
      "source": [
        "# This func. returns True if the image has a face\n",
        "def face_detector(img_path):\n",
        "  \n",
        "  # Reading the image\n",
        "  img = cv2.imread(img_path)\n",
        "  \n",
        "  # Converting the image to grayscale\n",
        "  gray = cv2.cvtColor(img, cv2.COLOR_BGR2GRAY)\n",
        "  \n",
        "  # Running the pre trained detector on image\n",
        "  faces = face_cascade.detectMultiScale(gray) \n",
        "  \n",
        "  return len(faces) > 0"
      ],
      "execution_count": 0,
      "outputs": []
    },
    {
      "metadata": {
        "id": "g3UXgXvSYPeD",
        "colab_type": "code",
        "colab": {
          "base_uri": "https://localhost:8080/",
          "height": 34
        },
        "outputId": "51c2e86c-8ea3-45c1-aa90-742ccd3850d7"
      },
      "cell_type": "code",
      "source": [
        "from keras.applications.resnet50 import ResNet50\n",
        "from keras.preprocessing import image\n",
        "from tqdm import tqdm"
      ],
      "execution_count": 5,
      "outputs": [
        {
          "output_type": "stream",
          "text": [
            "Using TensorFlow backend.\n"
          ],
          "name": "stderr"
        }
      ]
    },
    {
      "metadata": {
        "id": "ccmfDKp9YQYf",
        "colab_type": "code",
        "colab": {}
      },
      "cell_type": "code",
      "source": [
        "# Extracting ResNet50 model, with weights pre-trained on ImageNet.\n",
        "ResNet50_model = ResNet50(weights='imagenet')"
      ],
      "execution_count": 0,
      "outputs": []
    },
    {
      "metadata": {
        "id": "CiwgnXWMYUEU",
        "colab_type": "code",
        "colab": {}
      },
      "cell_type": "code",
      "source": [
        "# This func. takes image location and returns a 4D array (tensor) of image\n",
        "### This is required as Keras CNN takes 4D array as input.\n",
        "def path_to_tensor(img_path):\n",
        "  \n",
        "  # Loads RGB image as PIL.Image.Image type\n",
        "  img = image.load_img(img_path, target_size=(224,224))\n",
        "  \n",
        "  # Convert PIL.Image.Image to 3D tensor (224, 224, 3)\n",
        "  x = image.img_to_array(img)\n",
        "  \n",
        "  # Convert 3D tensor to 4D tensor (1, 224, 224, 3)\n",
        "  return np.expand_dims(x, axis=0)"
      ],
      "execution_count": 0,
      "outputs": []
    },
    {
      "metadata": {
        "id": "2P1jJ-UEYXq6",
        "colab_type": "code",
        "colab": {}
      },
      "cell_type": "code",
      "source": [
        "def paths_to_tensor(img_paths):\n",
        "  list_of_tensors = [path_to_tensor(img_path) for img_path in tqdm(img_paths)]\n",
        "  return np.vstack(list_of_tensors)"
      ],
      "execution_count": 0,
      "outputs": []
    },
    {
      "metadata": {
        "id": "89JeGdgeYadm",
        "colab_type": "code",
        "colab": {}
      },
      "cell_type": "code",
      "source": [
        "from keras.applications.resnet50 import preprocess_input, decode_predictions"
      ],
      "execution_count": 0,
      "outputs": []
    },
    {
      "metadata": {
        "id": "ZhmRuTxuYqg6",
        "colab_type": "code",
        "colab": {}
      },
      "cell_type": "code",
      "source": [
        "def ResNet50_predict_labels(img_path):\n",
        "  \n",
        "  #returns prediction vector\n",
        "  img = preprocess_input(path_to_tensor(img_path))\n",
        "  return np.argmax(ResNet50_model.predict(img))\n"
      ],
      "execution_count": 0,
      "outputs": []
    },
    {
      "metadata": {
        "id": "xsNruoXpZI7M",
        "colab_type": "code",
        "colab": {}
      },
      "cell_type": "code",
      "source": [
        "# This func returns true if a dog is detected in img\n",
        "def dog_detector(img_path):\n",
        "  prediction = ResNet50_predict_labels(img_path) \n",
        "  return ((prediction <= 268) & (prediction >= 151))"
      ],
      "execution_count": 0,
      "outputs": []
    },
    {
      "metadata": {
        "id": "5HSKn10mZqQE",
        "colab_type": "code",
        "colab": {}
      },
      "cell_type": "code",
      "source": [
        ""
      ],
      "execution_count": 0,
      "outputs": []
    }
  ]
}